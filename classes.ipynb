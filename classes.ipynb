{
 "cells": [
  {
   "cell_type": "markdown",
   "id": "91940719",
   "metadata": {},
   "source": [
    "# Definitions\n",
    "#### A **class** is a blueprint or template used to build objects.\n",
    "#### An **object** is a combination of data and functionality; An instance of a class\n",
    "#### An **attribute** is a data associated with an object\n",
    "#### A **method** is a function that belongs to an object"
   ]
  },
  {
   "cell_type": "code",
   "execution_count": 7,
   "id": "8daf37bb",
   "metadata": {},
   "outputs": [
    {
     "name": "stdout",
     "output_type": "stream",
     "text": [
      "Shaista\n",
      "91\n"
     ]
    }
   ],
   "source": [
    "class Student:\n",
    "    def __init__(self):\n",
    "        self.name = 'Shaista'\n",
    "        self.marks1 = 65\n",
    "\n",
    "    def updated_marks(self, marks2):\n",
    "        self.marks1 += marks2\n",
    "\n",
    "# Example usage\n",
    "student1 = Student()\n",
    "print(student1.name)         # Output: Shaista\n",
    "student1.updated_marks(26)   # Add 26 to marks1\n",
    "print(student1.marks1)       # Output: 91\n"
   ]
  },
  {
   "cell_type": "markdown",
   "id": "dd40125e",
   "metadata": {},
   "source": []
  }
 ],
 "metadata": {
  "kernelspec": {
   "display_name": "env",
   "language": "python",
   "name": "python3"
  },
  "language_info": {
   "codemirror_mode": {
    "name": "ipython",
    "version": 3
   },
   "file_extension": ".py",
   "mimetype": "text/x-python",
   "name": "python",
   "nbconvert_exporter": "python",
   "pygments_lexer": "ipython3",
   "version": "3.13.2"
  }
 },
 "nbformat": 4,
 "nbformat_minor": 5
}

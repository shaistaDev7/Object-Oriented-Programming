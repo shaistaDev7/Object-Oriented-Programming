{
 "cells": [
  {
   "cell_type": "code",
   "execution_count": null,
   "id": "f5a773cd",
   "metadata": {},
   "outputs": [],
   "source": []
  }
 ],
 "metadata": {
  "kernelspec": {
   "display_name": "env",
   "language": "python",
   "name": "python3"
  },
  "language_info": {
   "name": "python",
   "version": "3.13.2"
  }
 },
 "nbformat": 4,
 "nbformat_minor": 5
}
